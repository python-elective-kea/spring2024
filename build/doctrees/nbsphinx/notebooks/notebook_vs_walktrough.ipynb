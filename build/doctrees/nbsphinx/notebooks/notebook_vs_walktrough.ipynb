{
 "cells": [
  {
   "attachments": {},
   "cell_type": "markdown",
   "metadata": {},
   "source": [
    "# Jupyter notebook in VS Code walkthrough\n",
    "Look at the \n",
    "\n",
    "* [Jupyter notebook in VS Code walkthrough](https://www.youtube.com/watch?v=DA6ZAHBPF1U) \n",
    "\n",
    "for information on how to use Jupyter notebooks in VS Code.\n",
    "\n",
    "Note: The lady in the video is explaining about \"conda\" as a Kernel and virtual environmet. We do not use \"conda\" but .venv as explained in the instalation guide. \n",
    "\n",
    "**So do not install \"conda\" but use \".venv\".** \n"
   ]
  },
  {
   "attachments": {},
   "cell_type": "markdown",
   "metadata": {},
   "source": []
  }
 ],
 "metadata": {
  "language_info": {
   "name": "python"
  }
 },
 "nbformat": 4,
 "nbformat_minor": 2
}
