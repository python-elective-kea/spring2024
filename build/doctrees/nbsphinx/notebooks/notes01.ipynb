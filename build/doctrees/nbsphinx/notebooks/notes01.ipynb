{
 "cells": [
  {
   "cell_type": "markdown",
   "metadata": {
    "slideshow": {
     "slide_type": "slide"
    }
   },
   "source": [
    "# Introduction to Python "
   ]
  },
  {
   "cell_type": "markdown",
   "metadata": {
    "slideshow": {
     "slide_type": "slide"
    }
   },
   "source": [
    "### Teacher\n",
    "Claus Bové        \n",
    "\n",
    "Teaches \n",
    "\n",
    "* Intro to python\n",
    "* Technology 2. semester\n",
    "\n",
    "You can contact me on clbo@kea.dk    \n",
    "_I tend not to answer if contacted on other platforms_"
   ]
  },
  {
   "cell_type": "markdown",
   "metadata": {
    "slideshow": {
     "slide_type": "slide"
    }
   },
   "source": [
    "### Course Material\n",
    "https://python-elective-kea.github.io/spring2024/     \n",
    "https://github.com/python-elective-kea    \n",
    "\n",
    "Link to this on Fronter every week"
   ]
  },
  {
   "cell_type": "markdown",
   "metadata": {
    "slideshow": {
     "slide_type": "slide"
    }
   },
   "source": [
    "## Learning goals\n",
    "The goal of this elective is to make you a better, and a more clear thinking programmer, and to make you able to be so using python as your programming language.\n",
    "\n",
    "All in all you should at the end of this semester have aquired the compentencies required to perform in a job situation where python is needed.\n",
    "\n",
    "The most important learning goal is that you in the end will be able to write **pythonic code**\n",
    "\n",
    "**[The more formal learning goals](https://python-elective-kea.github.io/fall2023/about.html#the-more-formal-learning-goals)**"
   ]
  },
  {
   "cell_type": "markdown",
   "metadata": {
    "slideshow": {
     "slide_type": "slide"
    }
   },
   "source": [
    "## Course Workload\n",
    "This course is 10 ECTS points which translates to 13 hours pr. week, including classes.\n",
    "\n",
    "* 12 weeks of teaching    \n",
    "* 2 weeks of exam preperation"
   ]
  },
  {
   "cell_type": "markdown",
   "metadata": {
    "slideshow": {
     "slide_type": "slide"
    }
   },
   "source": [
    "## Exam  \n",
    "\n",
    "https://python-elective-kea.github.io/spring2024/exam.html \n"
   ]
  },
  {
   "cell_type": "markdown",
   "metadata": {
    "slideshow": {
     "slide_type": "slide"
    }
   },
   "source": [
    "## Mandatory Assignments\n",
    "2 mandatory assignments in this elective"
   ]
  }
 ],
 "metadata": {
  "kernelspec": {
   "display_name": ".venv",
   "language": "python",
   "name": "python3"
  },
  "language_info": {
   "name": "python",
   "version": "3.11.4"
  }
 },
 "nbformat": 4,
 "nbformat_minor": 2
}
