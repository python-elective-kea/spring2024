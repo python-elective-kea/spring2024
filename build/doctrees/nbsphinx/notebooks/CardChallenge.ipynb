{
 "cells": [
  {
   "cell_type": "markdown",
   "metadata": {},
   "source": [
    "![](../_static/card_chal.png)"
   ]
  },
  {
   "cell_type": "markdown",
   "metadata": {},
   "source": [
    "**Each card has a letter on one face, and a number on the other face.**     \n",
    "**Claim: If a card shows a vowel on one face, then its opposite face is an even number.**    \n",
    "**Question: Which card or cards must be turned over to test if this claim is true or false?**"
   ]
  },
  {
   "cell_type": "markdown",
   "metadata": {},
   "source": [
    " \n",
    "**Think about this for 2 minutes**"
   ]
  },
  {
   "cell_type": "code",
   "execution_count": 1,
   "metadata": {},
   "outputs": [],
   "source": [
    "# Possible solutions\n",
    "\n"
   ]
  },
  {
   "cell_type": "markdown",
   "metadata": {},
   "source": [
    "## Your job is  \n",
    "1. Make sure you understood the task :)\n",
    "2. Solve the challange\n",
    "3. Create an algorithm that for any 4 cards given can check if the cards can pass the test or not.\n",
    "\n",
    "Then you should implement the algoritm and code the solution in **Jupyter Notebook**. You should focus on using a **pythonic** coding style, and you should focus on making your application **as fast as possible**.   \n",
    "\n",
    "* first create a function that can generate 4 cards with a uppercase letter on one side and a single digit number on the orher side. \n",
    "* Then populate a list with a given number of card sets. \n",
    "* run each card set through the algorithm\n",
    "* get the result of how many card sets passed the test and how many did not, and specify which set violated the rule."
   ]
  }
 ],
 "metadata": {
  "kernelspec": {
   "display_name": "Python 3",
   "language": "python",
   "name": "python3"
  },
  "language_info": {
   "codemirror_mode": {
    "name": "ipython",
    "version": 3
   },
   "file_extension": ".py",
   "mimetype": "text/x-python",
   "name": "python",
   "nbconvert_exporter": "python",
   "pygments_lexer": "ipython3",
   "version": "3.8.5"
  },
  "toc": {
   "base_numbering": 1,
   "nav_menu": {},
   "number_sections": false,
   "sideBar": true,
   "skip_h1_title": true,
   "title_cell": "Table of Contents",
   "title_sidebar": "Contents",
   "toc_cell": false,
   "toc_position": {},
   "toc_section_display": true,
   "toc_window_display": false
  }
 },
 "nbformat": 4,
 "nbformat_minor": 2
}
