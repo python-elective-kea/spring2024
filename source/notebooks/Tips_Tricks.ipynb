{
 "cells": [
  {
   "cell_type": "markdown",
   "metadata": {},
   "source": [
    "# Notes on Tips & Tricks"
   ]
  },
  {
   "cell_type": "markdown",
   "metadata": {},
   "source": [
    "## Sqlite"
   ]
  },
  {
   "cell_type": "code",
   "execution_count": 1,
   "metadata": {},
   "outputs": [],
   "source": [
    "# Jeg har ikke fået kigget på det. \n",
    "# Vi kan kigge på det næste uge hvis det har interesse."
   ]
  },
  {
   "cell_type": "markdown",
   "metadata": {},
   "source": [
    "## Merge dictionaries"
   ]
  },
  {
   "cell_type": "code",
   "execution_count": 7,
   "metadata": {},
   "outputs": [
    {
     "data": {
      "text/plain": [
       "{'a': 1, 'b': 3, 'c': 4}"
      ]
     },
     "execution_count": 7,
     "metadata": {},
     "output_type": "execute_result"
    }
   ],
   "source": [
    "x = {'a': 1, 'b': 2}\n",
    "y = {'b': 3, 'c': 4}\n",
    "\n",
    "z = {**x, **y}\n",
    "\n",
    "z"
   ]
  },
  {
   "cell_type": "markdown",
   "metadata": {},
   "source": [
    "## Using dictionary as a switch"
   ]
  },
  {
   "cell_type": "code",
   "execution_count": 17,
   "metadata": {},
   "outputs": [
    {
     "name": "stdout",
     "output_type": "stream",
     "text": [
      "What would you like to do? (+,-,*,/)+\n",
      "What numbers would you like to +? (x+y)12+88\n"
     ]
    },
    {
     "data": {
      "text/plain": [
       "100"
      ]
     },
     "execution_count": 17,
     "metadata": {},
     "output_type": "execute_result"
    }
   ],
   "source": [
    "case = input('What would you like to do? (+,-,*,/)')\n",
    "key = input(f'What numbers would you like to {case}? (x{case}y)')\n",
    "keys = [int(x) for x in key.split(f'{case}')]\n",
    "{\n",
    "    '+': lambda a, b: a + b,\n",
    "    '-': lambda a, b: a - b,\n",
    "    '/': lambda a, b: a / b,\n",
    "    '*': lambda a, b: a * b\n",
    "}[case](keys[0], keys[-1])"
   ]
  },
  {
   "cell_type": "markdown",
   "metadata": {},
   "source": [
    "### Exercise:"
   ]
  },
  {
   "cell_type": "markdown",
   "metadata": {},
   "source": [
    "In the module below, you should create a register dictionary that has the name of each function as a key and the function itself as a value.   \n",
    "\n",
    "{'home' : home, 'about' : about}\n",
    "\n",
    "The register should always corospond to the functions that are in the file.\n",
    "\n",
    "It would be a good idea to use a decorator for this task. (but be aware that it might be a bit more simple than the decorators we worked with 2 weeks ago)"
   ]
  },
  {
   "cell_type": "code",
   "execution_count": null,
   "metadata": {},
   "outputs": [],
   "source": [
    "register = {}\n",
    "def home():\n",
    "    return 'I am the Home page'\n",
    "def about():\n",
    "    return 'I am the About page'\n",
    "def contact():\n",
    "    return 'I am the Contact page'"
   ]
  },
  {
   "cell_type": "markdown",
   "metadata": {},
   "source": [
    "2. In the code blick below you should simulate a website menu that in a loop asks you what page you want to see and gives you the return value of the functions."
   ]
  },
  {
   "cell_type": "code",
   "execution_count": null,
   "metadata": {},
   "outputs": [],
   "source": [
    "  "
   ]
  },
  {
   "cell_type": "markdown",
   "metadata": {},
   "source": [
    "3. Add a menu point called exit. This element should exit the loop."
   ]
  },
  {
   "cell_type": "markdown",
   "metadata": {},
   "source": [
    "## Swapping values"
   ]
  },
  {
   "cell_type": "code",
   "execution_count": 61,
   "metadata": {},
   "outputs": [
    {
     "name": "stdout",
     "output_type": "stream",
     "text": [
      "a = 42, b = 33\n",
      "a = 33, b = 42\n",
      "a = 42, b = 33\n"
     ]
    }
   ],
   "source": [
    "a = 42\n",
    "b = 33\n",
    "\n",
    "print(f'a = {a}, b = {b}')\n",
    "\n",
    "# normal swap\n",
    "temp = a\n",
    "a = b\n",
    "b = temp\n",
    "\n",
    "print(f'a = {a}, b = {b}')\n",
    "\n",
    "# the pythonic way\n",
    "a, b = b, a\n",
    "\n",
    "print(f'a = {a}, b = {b}')"
   ]
  },
  {
   "cell_type": "markdown",
   "metadata": {},
   "source": [
    "## http.server\n",
    "You can serve files and folders via http over a network by using the http.server command"
   ]
  },
  {
   "cell_type": "code",
   "execution_count": 1,
   "metadata": {},
   "outputs": [],
   "source": [
    "# python3 -m http.server "
   ]
  },
  {
   "cell_type": "markdown",
   "metadata": {},
   "source": [
    "When you work with a docker container it would look like this:"
   ]
  },
  {
   "cell_type": "code",
   "execution_count": 2,
   "metadata": {},
   "outputs": [],
   "source": [
    "# docker run -it --rm -p 8000:8000 -v $(PWD):/docs python3 -m http.server --bind 0.0.0.0"
   ]
  },
  {
   "cell_type": "code",
   "execution_count": null,
   "metadata": {},
   "outputs": [],
   "source": [
    "### Exercise 1: Flask"
   ]
  }
 ],
 "metadata": {
  "kernelspec": {
   "display_name": "Python 3",
   "language": "python",
   "name": "python3"
  },
  "language_info": {
   "codemirror_mode": {
    "name": "ipython",
    "version": 3
   },
   "file_extension": ".py",
   "mimetype": "text/x-python",
   "name": "python",
   "nbconvert_exporter": "python",
   "pygments_lexer": "ipython3",
   "version": "3.8.5"
  }
 },
 "nbformat": 4,
 "nbformat_minor": 4
}
