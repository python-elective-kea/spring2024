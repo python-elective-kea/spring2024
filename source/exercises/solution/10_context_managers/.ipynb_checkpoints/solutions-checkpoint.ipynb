{
 "cells": [
  {
   "cell_type": "markdown",
   "metadata": {},
   "source": [
    "# Solutions"
   ]
  },
  {
   "cell_type": "markdown",
   "metadata": {},
   "source": [
    "## 1. Coroutine to Compute a Running Average "
   ]
  },
  {
   "cell_type": "code",
   "execution_count": 1,
   "metadata": {},
   "outputs": [],
   "source": [
    "def averager(*args):\n",
    "     sum = 0\n",
    "     for i in args:\n",
    "            sum += i\n",
    "     return sum/len(args)"
   ]
  },
  {
   "cell_type": "code",
   "execution_count": 2,
   "metadata": {},
   "outputs": [
    {
     "data": {
      "text/plain": [
       "2.5"
      ]
     },
     "execution_count": 2,
     "metadata": {},
     "output_type": "execute_result"
    }
   ],
   "source": [
    "averager(1, 2, 3, 4)"
   ]
  },
  {
   "cell_type": "code",
   "execution_count": 6,
   "metadata": {},
   "outputs": [],
   "source": [
    "def averager(): \n",
    "    total = 0.0\n",
    "    count = 0 \n",
    "    average = None \n",
    "    while True:\n",
    "        term = yield average \n",
    "        total += term\n",
    "        count += 1\n",
    "        average = total/count"
   ]
  },
  {
   "cell_type": "code",
   "execution_count": 7,
   "metadata": {},
   "outputs": [],
   "source": [
    "x = averager()\n",
    "next(x)"
   ]
  },
  {
   "cell_type": "code",
   "execution_count": 8,
   "metadata": {},
   "outputs": [
    {
     "data": {
      "text/plain": [
       "20.0"
      ]
     },
     "execution_count": 8,
     "metadata": {},
     "output_type": "execute_result"
    }
   ],
   "source": [
    "x.send(20)"
   ]
  },
  {
   "cell_type": "code",
   "execution_count": 9,
   "metadata": {},
   "outputs": [
    {
     "data": {
      "text/plain": [
       "25.0"
      ]
     },
     "execution_count": 9,
     "metadata": {},
     "output_type": "execute_result"
    }
   ],
   "source": [
    "x.send(30)"
   ]
  },
  {
   "cell_type": "markdown",
   "metadata": {},
   "source": [
    "## 2. Context manager class "
   ]
  },
  {
   "cell_type": "code",
   "execution_count": 12,
   "metadata": {},
   "outputs": [],
   "source": [
    "class MakeParagraph:\n",
    "\n",
    "    def __enter__(self):\n",
    "        print('<h1>')\n",
    "\n",
    "    def __exit__(self, *args):\n",
    "        print('</h1>')"
   ]
  },
  {
   "cell_type": "markdown",
   "metadata": {},
   "source": [
    "## 3. contextlib"
   ]
  },
  {
   "cell_type": "code",
   "execution_count": 15,
   "metadata": {},
   "outputs": [
    {
     "name": "stdout",
     "output_type": "stream",
     "text": [
      "(1, 'Claus', '223344-5566')\n",
      "(2, 'Julie', '111111-1111')\n",
      "(3, 'Hannah', '222222-2222')\n"
     ]
    }
   ],
   "source": [
    "from sqlite3 import connect\n",
    "from contextlib import contextmanager\n",
    "\n",
    "\n",
    "@contextmanager\n",
    "def create_tbl(cur):\n",
    "        cur.execute('CREATE TABLE students(id int PRIMARY KEY, name text, cpr text)')\n",
    "        yield\n",
    "        cur.execute('DROP TABLE students')\n",
    "\n",
    "\n",
    "with connect('school.db') as conn:\n",
    "    cur = conn.cursor()\n",
    "    \n",
    "    with create_tbl(cur) as x:\n",
    "\n",
    "            # cur.execute('CREATE TABLE students(id int PRIMARY KEY, name text, cpr text)')\n",
    "        \n",
    "        cur.execute('INSERT INTO students(id, name, cpr) VALUES (1, \"Claus\", \"223344-5566\")')\n",
    "        cur.execute('INSERT INTO students(id, name, cpr) VALUES (2, \"Julie\", \"111111-1111\")')\n",
    "        cur.execute('INSERT INTO students(id, name, cpr) VALUES (3, \"Hannah\", \"222222-2222\")')\n",
    "\n",
    "        for i in cur.execute('SELECT * FROM students'):\n",
    "            print(i)\n",
    "\n",
    "            # cur.execute('DROP TABLE students')contextlib"
   ]
  },
  {
   "cell_type": "code",
   "execution_count": null,
   "metadata": {},
   "outputs": [],
   "source": []
  }
 ],
 "metadata": {
  "kernelspec": {
   "display_name": "Python 3",
   "language": "python",
   "name": "python3"
  },
  "language_info": {
   "codemirror_mode": {
    "name": "ipython",
    "version": 3
   },
   "file_extension": ".py",
   "mimetype": "text/x-python",
   "name": "python",
   "nbconvert_exporter": "python",
   "pygments_lexer": "ipython3",
   "version": "3.8.5"
  }
 },
 "nbformat": 4,
 "nbformat_minor": 4
}
